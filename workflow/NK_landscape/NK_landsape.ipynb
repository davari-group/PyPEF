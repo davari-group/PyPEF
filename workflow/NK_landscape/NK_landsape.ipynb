{
 "cells": [
  {
   "cell_type": "code",
   "execution_count": 13,
   "metadata": {},
   "outputs": [],
   "source": [
    "import numpy as np\n",
    "from utils.landscape_class import Protein_Landscape\n",
    "from scipy import stats\n",
    "from sklearn.metrics import r2_score\n",
    "from sklearn.ensemble import RandomForestRegressor\n",
    "from sklearn.datasets import make_regression\n",
    "from sklearn.model_selection import GridSearchCV  # default: refit=True\n",
    "import matplotlib.pyplot as plt\n",
    "import random"
   ]
  },
  {
   "cell_type": "code",
   "execution_count": 14,
   "metadata": {},
   "outputs": [],
   "source": [
    "def Stack(arr):\n",
    "    X, y = arr.T\n",
    "    \n",
    "    return np.vstack(X), np.reshape(y, y.shape[0])\n",
    "\n",
    "def Get_Xy(landscape):\n",
    "\n",
    "    X = landscape.tokenize_data()\n",
    "    Y = landscape.data.T[1]\n",
    "    boolians = landscape.boolean_mutant_array()\n",
    "    \n",
    "    mutants = [[], [], [], [], [], []]\n",
    "    for x, y, boolian in zip(X, Y, boolians):\n",
    "        B = 0\n",
    "        for b in boolian:\n",
    "            if b:\n",
    "                B += 1\n",
    "\n",
    "\n",
    "        mutants[B].append([x, y])\n",
    "\n",
    "    train = np.vstack([mutants[0], mutants[1], mutants[2], mutants[3]])\n",
    "    test = np.vstack([mutants[4], mutants[5]])\n",
    "    \n",
    "    \n",
    "    X_train, y_train = Stack(train)\n",
    "    X_test, y_test = Stack(test)\n",
    "    \n",
    "    return X_train, y_train, X_test, y_test"
   ]
  },
  {
   "cell_type": "code",
   "execution_count": 15,
   "metadata": {},
   "outputs": [
    {
     "name": "stdout",
     "output_type": "stream",
     "text": [
      "K0/V0.txt\n",
      "K0/V1.txt\n",
      "K0/V2.txt\n",
      "K0/V3.txt\n",
      "K0/V4.txt\n"
     ]
    },
    {
     "name": "stderr",
     "output_type": "stream",
     "text": [
      "/home/niklas/anaconda3/envs/psp_py37/lib/python3.7/site-packages/numpy/core/_asarray.py:136: VisibleDeprecationWarning: Creating an ndarray from ragged nested sequences (which is a list-or-tuple of lists-or-tuples-or ndarrays with different lengths or shapes) is deprecated. If you meant to do this, you must specify 'dtype=object' when creating the ndarray\n",
      "  return array(a, dtype, copy=False, order=order, subok=True)\n"
     ]
    }
   ],
   "source": [
    "saved_nk_landscapes = {\"NK-{}\".format(x) : [Protein_Landscape(saved_file=\"K0/V{1}.txt\".format(x,y)) for y in range(5)] for x in range(1)}\n",
    "landscape = saved_nk_landscapes[\"NK-0\"][0]\n",
    "X_train, y_train, X_test, y_test = Get_Xy(landscape)"
   ]
  },
  {
   "cell_type": "code",
   "execution_count": 20,
   "metadata": {},
   "outputs": [],
   "source": [
    "# faster:\n",
    "regr = RandomForestRegressor(max_depth=100, n_estimators=1000, random_state=0)    # r2_score = 0.781\n",
    "\n",
    "# GridSearchCV RF model, might take some few minutes to set parameters (thus out-commented):\n",
    "#params = {                      # similar parameter grid as Xu et al., https://doi.org/10.1021/acs.jcim.0c00073\n",
    "#    'random_state': [42],\n",
    "#    'n_estimators': [100, 250, 500, 1000],  # number of individual decision trees in the forest\n",
    "#    'max_features': ['auto', 'sqrt', 'log2']  # “auto” -> max_features=n_features,\n",
    "#    # “sqrt” -> max_features=sqrt(n_features) “log2” -> max_features=log2(n_features)\n",
    "#}\n",
    "#regr = GridSearchCV(RandomForestRegressor(), param_grid=params, iid=False, cv=5)\n",
    "\n",
    "regr.fit(X_train, y_train)\n",
    "y_pred = regr.predict(X_test)"
   ]
  },
  {
   "cell_type": "code",
   "execution_count": 21,
   "metadata": {},
   "outputs": [
    {
     "data": {
      "text/plain": [
       "SpearmanrResult(correlation=0.910296766965703, pvalue=0.0)"
      ]
     },
     "execution_count": 21,
     "metadata": {},
     "output_type": "execute_result"
    }
   ],
   "source": [
    "stats.spearmanr(y_test, y_pred)"
   ]
  },
  {
   "cell_type": "code",
   "execution_count": 22,
   "metadata": {},
   "outputs": [
    {
     "data": {
      "text/plain": [
       "(0.9125408208679897, 0.0)"
      ]
     },
     "execution_count": 22,
     "metadata": {},
     "output_type": "execute_result"
    }
   ],
   "source": [
    "stats.pearsonr(y_test, y_pred)"
   ]
  },
  {
   "cell_type": "code",
   "execution_count": 23,
   "metadata": {},
   "outputs": [
    {
     "data": {
      "text/plain": [
       "0.7811911092552708"
      ]
     },
     "execution_count": 23,
     "metadata": {},
     "output_type": "execute_result"
    }
   ],
   "source": [
    "r2_score(y_test, y_pred)"
   ]
  },
  {
   "cell_type": "code",
   "execution_count": 24,
   "metadata": {},
   "outputs": [],
   "source": [
    "fitness_dict = {str(k):v for k,v in zip(landscape.tokenize_data(), landscape.data.T[1])}"
   ]
  },
  {
   "cell_type": "code",
   "execution_count": 25,
   "metadata": {},
   "outputs": [],
   "source": [
    "def Mutate(seq):\n",
    "    mut = seq.copy()\n",
    "    pos = np.random.randint(5)\n",
    "    aa = np.random.randint(10)\n",
    "    mut[pos] = aa\n",
    "    \n",
    "    return mut\n",
    "\n",
    "def Accept(seq, mut):\n",
    "    seq_fit = regr.predict([seq])\n",
    "    mut_fit = regr.predict([mut])\n",
    "        \n",
    "    if mut_fit >= seq_fit:\n",
    "        return True\n",
    "    \n",
    "    else:\n",
    "        T = 1e-2\n",
    "               \n",
    "        boltz = np.exp(((mut_fit - seq_fit) / T), dtype=np.longfloat)\n",
    "        p = min(1, boltz)\n",
    "        \n",
    "        rand_var = random.random()\n",
    "        if rand_var < p:\n",
    "            return True\n",
    "        else:\n",
    "            return False"
   ]
  },
  {
   "cell_type": "code",
   "execution_count": 26,
   "metadata": {},
   "outputs": [
    {
     "data": {
      "text/plain": [
       "'0.903'"
      ]
     },
     "execution_count": 26,
     "metadata": {},
     "output_type": "execute_result"
    }
   ],
   "source": [
    "\"%.3f\"%(np.max(np.concatenate([y_test, y_train])))"
   ]
  },
  {
   "cell_type": "code",
   "execution_count": 27,
   "metadata": {},
   "outputs": [
    {
     "name": "stdout",
     "output_type": "stream",
     "text": [
      "[9, 4, 3, 7, 2] 0.704 0.815 0.903\n"
     ]
    }
   ],
   "source": [
    "ys = []\n",
    "seq = [0,4,3,9,6]\n",
    "ys.append(regr.predict([seq]))\n",
    "\n",
    "accepted = 1\n",
    "while accepted <= 10:\n",
    "    mut = Mutate(seq)\n",
    "    if Accept(seq, mut):\n",
    "        seq = mut\n",
    "        ys.append(regr.predict([seq]))\n",
    "        accepted += 1\n",
    "print(seq, \"%.3f\"%(regr.predict([seq])), \"%.3f\"%(fitness_dict[str(np.array(seq))]), \"%.3f\"%(np.max(np.concatenate([y_test, y_train]))))"
   ]
  },
  {
   "cell_type": "code",
   "execution_count": 28,
   "metadata": {},
   "outputs": [
    {
     "data": {
      "text/plain": [
       "[<matplotlib.lines.Line2D at 0x7f4933783a50>]"
      ]
     },
     "execution_count": 28,
     "metadata": {},
     "output_type": "execute_result"
    },
    {
     "data": {
      "image/png": "[encoded data removed]",
      "text/plain": [
       "<Figure size 432x288 with 1 Axes>"
      ]
     },
     "metadata": {
      "needs_background": "light"
     },
     "output_type": "display_data"
    }
   ],
   "source": [
    "plt.plot(np.arange(11), ys)"
   ]
  },
  {
   "cell_type": "code",
   "execution_count": null,
   "metadata": {},
   "outputs": [],
   "source": []
  }
 ],
 "metadata": {
  "kernelspec": {
   "display_name": "Python 3",
   "language": "python",
   "name": "python3"
  },
  "language_info": {
   "codemirror_mode": {
    "name": "ipython",
    "version": 3
   },
   "file_extension": ".py",
   "mimetype": "text/x-python",
   "name": "python",
   "nbconvert_exporter": "python",
   "pygments_lexer": "ipython3",
   "version": "3.7.9"
  }
 },
 "nbformat": 4,
 "nbformat_minor": 2
}
